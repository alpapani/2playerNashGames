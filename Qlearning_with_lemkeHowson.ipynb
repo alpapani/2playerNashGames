{
 "cells": [
  {
   "cell_type": "code",
   "execution_count": 1,
   "id": "62d49f37",
   "metadata": {},
   "outputs": [
    {
     "data": {
      "image/png": "[encoded data removed]",
      "text/plain": [
       "<Figure size 432x288 with 2 Axes>"
      ]
     },
     "metadata": {
      "needs_background": "light"
     },
     "output_type": "display_data"
    }
   ],
   "source": [
    "import numpy as np\n",
    "import nashpy as nash\n",
    "import matplotlib.pyplot as plt\n",
    "\n",
    "n = 5  # dimension of player Q's actions\n",
    "m = 7  # dimension of player J's actions\n",
    "d = 10 # number of elements in state space\n",
    "h=.6   # mixing parameter to help game from being degenerate\n",
    "\n",
    "np.random.seed(0)\n",
    "r_Q = np.random.uniform(size =(n,m))\n",
    "r_J = h*r_Q +(1-h)*(-1+2*np.random.uniform(size=(n,m)))\n",
    "\n",
    "delta = .9\n",
    "gamma = .8\n",
    "\n",
    "P = np.random.uniform(size=(d,d,n,m))\n",
    "\n",
    "plt.subplot(1, 2, 1) \n",
    "plt.imshow(r_Q)\n",
    "plt.title('r_Q')\n",
    "plt.subplot(1, 2, 2)\n",
    "plt.imshow(r_J)\n",
    "plt.title('r_J')\n",
    "plt.show()"
   ]
  },
  {
   "cell_type": "code",
   "execution_count": null,
   "id": "edd6cd3f",
   "metadata": {},
   "outputs": [],
   "source": [
    "Q = np.random.uniform(size =(d,n,m))\n",
    "J = np.random.uniform(size =(d,n,m))\n",
    "Qnew = np.copy(Q)\n",
    "Jnew = np.copy(J)\n",
    "\n",
    "T = 1000\n",
    "learn_incr = 100\n",
    "s = np.zeros(T)\n",
    "s[0] = np.random.choice(np.arange(0,d))\n",
    "err = np.zeros((T,2))\n",
    "\n",
    "w = np.random.choice(np.arange(0,n))\n",
    "a = np.random.choice(np.arange(0,m))\n",
    "\n",
    "for t in range(T-1):\n",
    "    ## learning rate\n",
    "    alpha = 1/(1 + int(t/learn_incr))\n",
    "    \n",
    "    ## update the state\n",
    "    s0 = s[t].astype(int)\n",
    "    s[t+1] = np.random.choice(np.arange(0,d),p = P[s0,:,w,a]/np.sum(P[s0,:,w,a]))\n",
    "    s_prime = s[t+1].astype(int)\n",
    "    \n",
    "    ## use Lemke-Howson to find Nash equlibria\n",
    "    random_game = nash.Game(Q[s_prime ],J[s_prime ])\n",
    "    equilibria = random_game.lemke_howson_enumeration()\n",
    "    \n",
    "    ## randomly select a Nash point\n",
    "    eq_list = [eq for eq in equilibria]\n",
    "    eq_list_nonan = [eq for eq in eq_list if np.sum(np.isnan(eq[0]))+np.sum(np.isnan(eq[1]))==0]\n",
    "    eq_list_non_neg = [eq for eq in eq_list_nonan if min(np.append(eq[0],eq[1]))>=0]\n",
    "    ind = np.random.choice(np.arange(0,len(eq_list_non_neg)))\n",
    "    eq_rand = eq_list_non_neg[ind]\n",
    "    \n",
    "    ## use the Hu & Wellman update scheme\n",
    "    Qnew[s0,w,a]=(1-alpha)*Q[s0,w,a] + alpha*(r_Q[w,a] + gamma* eq_rand[0].T@Q[s_prime ]@eq_rand[1])\n",
    "    Jnew[s0,w,a]=(1-alpha)*J[s0,w,a] + alpha*(r_J[w,a] + delta* eq_rand[0].T@J[s_prime ]@eq_rand[1])\n",
    "    \n",
    "    ## output error and save updated arrays\n",
    "    err[t,:]=(np.linalg.norm(Qnew-Q),np.linalg.norm(Jnew-J))\n",
    "    Q[s0,w,a] = Qnew[s0,w,a]   \n",
    "    J[s0,w,a] = Jnew[s0,w,a]\n",
    "          \n",
    "    ## randomly select action going forward\n",
    "    w = np.random.choice(np.arange(0,n),p=eq_rand[0])\n",
    "    a = np.random.choice(np.arange(0,m),p=eq_rand[1])\n"
   ]
  },
  {
   "cell_type": "code",
   "execution_count": null,
   "id": "0f002091",
   "metadata": {},
   "outputs": [],
   "source": [
    "plt.plot(err);\n",
    "plt.title('$\\||Q_{t+1}-Q_{t}\\||$ and $\\||J_{t+1}-J_{t}\\||$')\n",
    "plt.xlabel('t')"
   ]
  },
  {
   "cell_type": "code",
   "execution_count": null,
   "id": "b3a6eaae",
   "metadata": {},
   "outputs": [],
   "source": [
    "Qall = np.nan*np.zeros((2*(n+1),5*(m+1)))\n",
    "Jall = np.nan*np.zeros((2*(n+1),5*(m+1)))\n",
    "\n",
    "\n",
    "for i in range(2):\n",
    "    for j in range(5):\n",
    "        Qall[(n+1)*i:((n+1)*i+n),(m+1)*j:((m+1)*j+m)]=Q[5*i+j]\n",
    "        Jall[(n+1)*i:((n+1)*i+n),(m+1)*j:((m+1)*j+m)]=J[5*i+j]\n",
    "Qall = Qall[0:-1,0:-1]\n",
    "Jall = Jall[0:-1,0:-1]\n",
    "    \n",
    "plt.figure(figsize=(10,20))\n",
    "plt.imshow(Qall)\n",
    "plt.title('Q Matrices')\n",
    "plt.show()\n",
    "\n",
    "plt.figure(figsize=(10,20))\n",
    "plt.imshow(Jall)\n",
    "plt.title('J Matrices')\n",
    "plt.show()\n",
    "\n"
   ]
  },
  {
   "cell_type": "code",
   "execution_count": null,
   "id": "bb4c7bec",
   "metadata": {},
   "outputs": [],
   "source": []
  },
  {
   "cell_type": "code",
   "execution_count": null,
   "id": "7dc63745",
   "metadata": {},
   "outputs": [],
   "source": []
  }
 ],
 "metadata": {
  "kernelspec": {
   "display_name": "Python 3 (ipykernel)",
   "language": "python",
   "name": "python3"
  },
  "language_info": {
   "codemirror_mode": {
    "name": "ipython",
    "version": 3
   },
   "file_extension": ".py",
   "mimetype": "text/x-python",
   "name": "python",
   "nbconvert_exporter": "python",
   "pygments_lexer": "ipython3",
   "version": "3.9.6"
  }
 },
 "nbformat": 4,
 "nbformat_minor": 5
}
